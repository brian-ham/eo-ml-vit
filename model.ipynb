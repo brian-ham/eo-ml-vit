{
 "cells": [
  {
   "cell_type": "code",
   "execution_count": 1,
   "metadata": {},
   "outputs": [],
   "source": [
    "# Function to extract latitude and longitude from file name\n",
    "\n",
    "def extract_lat_lon(file_name):\n",
    "    # file_names are in hte format lat-long.png. We need to extract the lat and long\n",
    "    # if number of \"-\"s in images is 1\n",
    "    if file_name.count(\"-\") == 1:\n",
    "        lat = file_name.split('-')[0]\n",
    "        long = file_name.split('-')[1][:-4]\n",
    "    elif file_name.count(\"-\") == 2:\n",
    "        # if lat is the negative one\n",
    "        if file_name[0] == \"-\":\n",
    "            # the file format is then (-lat)-long.png and we wnat to extract -lat and long\n",
    "            lat = file_name.split('-')[0] + \"-\" + file_name.split('-')[1]\n",
    "            long = file_name.split('-')[2][:-4]\n",
    "\n",
    "        else:\n",
    "            # the file format is then lat-(-long).png and we wnat to extract lat and -long\n",
    "            lat = file_name.split('-')[0]\n",
    "            long = file_name.split('-')[1] + \"-\" + file_name.split('-')[2][:-4]\n",
    "\n",
    "    elif file_name.count(\"-\") == 3:\n",
    "        # file normat is then (-lat)-(-long).png and we want to extract -lat and -long\n",
    "\n",
    "        lat = file_name.split('-')[0] + \"-\" + file_name.split('-')[1]\n",
    "        long = file_name.split('-')[2] + \"-\" + file_name.split('-')[3][:-4]\n",
    "    return float(lat), float(long)"
   ]
  },
  {
   "cell_type": "code",
   "execution_count": 2,
   "metadata": {},
   "outputs": [
    {
     "name": "stderr",
     "output_type": "stream",
     "text": [
      "/n/home07/bham/.local/lib/python3.11/site-packages/tqdm/auto.py:21: TqdmWarning: IProgress not found. Please update jupyter and ipywidgets. See https://ipywidgets.readthedocs.io/en/stable/user_install.html\n",
      "  from .autonotebook import tqdm as notebook_tqdm\n"
     ]
    }
   ],
   "source": [
    "import torch\n",
    "from torch.utils.data import Dataset, DataLoader\n",
    "from torchvision.io import read_image\n",
    "from torchvision.transforms import Compose, Resize, Normalize, ToTensor\n",
    "import pandas as pd\n",
    "from PIL import Image\n",
    "import os\n",
    "\n",
    "class PovertyDataset(Dataset):\n",
    "    def __init__(self, annotations_file, img_dir, transform=None):\n",
    "        \"\"\"\n",
    "        Args:\n",
    "            annotations_file (string): Path to the csv file with annotations.\n",
    "            img_dir (string): Directory with all the images.\n",
    "            transform (callable, optional): Optional transform to be applied on a sample.\n",
    "        \"\"\"\n",
    "        self.img_labels = pd.read_csv(annotations_file)\n",
    "        self.img_dir = img_dir\n",
    "        # list of file_names\n",
    "        self.file_names = os.listdir(self.img_dir)\n",
    "        self.transform = transform\n",
    "\n",
    "    def __len__(self):\n",
    "        # return number of files in img_dir\n",
    "        return len(os.listdir(self.img_dir))\n",
    "\n",
    "    def __getitem__(self, idx):\n",
    "        img_path = os.path.join(self.img_dir, self.file_names[idx])\n",
    "        lat, long = extract_lat_lon(self.file_names[idx])\n",
    "        image = Image.open(img_path).convert(\"RGB\")  # Ensure image is RGB\n",
    "\n",
    "        labels_idx = self.img_labels[(self.img_labels['lat'] == lat) & (self.img_labels['lon'] == long)]\n",
    "        # if no label\n",
    "        if labels_idx.empty:\n",
    "            print(\"---------------------\")\n",
    "            print(\"No label for this image\")\n",
    "            print(f\"Lat: {lat}, Long: {long}\")\n",
    "            print(\"File Name:\", self.files_names[idx])\n",
    "            label = torch.rand(1)\n",
    "        else:\n",
    "            label = self.img_labels.iloc[labels_idx.index[0], 1]\n",
    "\n",
    "        if self.transform:\n",
    "            image = self.transform(image)\n",
    "        return image, label\n",
    "\n",
    "# Define transformations\n",
    "transform = Compose([\n",
    "    Resize((224, 224)),  # Match the ViT input size\n",
    "    ToTensor(),\n",
    "    Normalize(mean=[0.485, 0.456, 0.406], std=[0.229, 0.224, 0.225]),  # Standard normalization for ImageNet-trained models\n",
    "])\n",
    "\n",
    "# Create the Dataset\n",
    "dataset = PovertyDataset(annotations_file='dhs_clusters_2014.csv', img_dir='images-2014', transform=transform)"
   ]
  },
  {
   "cell_type": "code",
   "execution_count": 3,
   "metadata": {},
   "outputs": [],
   "source": [
    "# Replace classification layer with regression\n",
    "\n",
    "from transformers import ViTForImageClassification, ViTConfig\n",
    "\n",
    "# Load pre-trained model configuration\n",
    "config = ViTConfig.from_pretrained('google/vit-base-patch16-224')\n",
    "\n",
    "# Modify the configuration for 1 output (regression)\n",
    "config.num_labels = 1\n",
    "\n",
    "# Load the model with the modified configuration\n",
    "model = ViTForImageClassification(config)\n",
    "\n",
    "# Replace the classifier head with a new regression layer\n",
    "model.classifier = torch.nn.Linear(model.config.hidden_size, 1)"
   ]
  },
  {
   "cell_type": "code",
   "execution_count": 4,
   "metadata": {},
   "outputs": [],
   "source": [
    "# Prepare dataloader\n",
    "\n",
    "from torch.utils.data import DataLoader, random_split\n",
    "\n",
    "# Assuming 'dataset' is your original dataset\n",
    "total_count = len(dataset)\n",
    "train_count = int(0.8 * total_count)  # 80% for training\n",
    "test_count = total_count - train_count  # 20% for testing\n",
    "\n",
    "# Split the dataset\n",
    "train_dataset, test_dataset = random_split(dataset, [train_count, test_count])\n",
    "\n",
    "# Initialize DataLoaders for each dataset\n",
    "train_dataloader = DataLoader(train_dataset, batch_size=32, shuffle=True)\n",
    "test_dataloader = DataLoader(test_dataset, batch_size=32, shuffle=False)\n",
    "\n"
   ]
  },
  {
   "cell_type": "code",
   "execution_count": 5,
   "metadata": {},
   "outputs": [
    {
     "name": "stdout",
     "output_type": "stream",
     "text": [
      "torch.Size([32, 3, 224, 224])\n",
      "torch.Size([32])\n"
     ]
    }
   ],
   "source": [
    "# print shape of data and label for train_dataloader\n",
    "for data, label in train_dataloader:\n",
    "    print(data.shape)\n",
    "    print(label.shape)\n",
    "    break"
   ]
  },
  {
   "cell_type": "code",
   "execution_count": 6,
   "metadata": {},
   "outputs": [
    {
     "name": "stdout",
     "output_type": "stream",
     "text": [
      "Got to model train\n",
      "Using GPU\n",
      "Setting up optimizer\n",
      "Setting up Loss\n",
      "Setting up Training loop\n",
      "Epoch 1\n"
     ]
    },
    {
     "name": "stderr",
     "output_type": "stream",
     "text": [
      "Training:   0%|          | 0/427 [00:00<?, ?it/s]"
     ]
    },
    {
     "ename": "",
     "evalue": "",
     "output_type": "error",
     "traceback": [
      "\u001b[1;31mThe Kernel crashed while executing code in the current cell or a previous cell. \n",
      "\u001b[1;31mPlease review the code in the cell(s) to identify a possible cause of the failure. \n",
      "\u001b[1;31mClick <a href='https://aka.ms/vscodeJupyterKernelCrash'>here</a> for more info. \n",
      "\u001b[1;31mView Jupyter <a href='command:jupyter.viewOutput'>log</a> for further details."
     ]
    }
   ],
   "source": [
    "import torch.optim as optim\n",
    "from tqdm import tqdm\n",
    "\n",
    "# Set the model to training mode\n",
    "print(\"Got to model train\")\n",
    "model.train()\n",
    "\n",
    "# Use GPU if available\n",
    "\n",
    "print(\"Using GPU\")\n",
    "device = torch.device(\"cuda\" if torch.cuda.is_available() else \"cpu\")\n",
    "model.to(device)\n",
    "\n",
    "print(\"Setting up optimizer\")\n",
    "# Setup the optimizer\n",
    "optimizer = optim.Adam(model.parameters(), lr=1e-5)\n",
    "\n",
    "print(\"Setting up Loss\")\n",
    "# Loss function\n",
    "criterion = torch.nn.MSELoss()\n",
    "\n",
    "print(\"Setting up Training loop\")\n",
    "# Training loop\n",
    "num_epochs = 10\n",
    "for epoch in range(num_epochs):\n",
    "    print(f\"Epoch {epoch+1}\")\n",
    "    for images, labels in tqdm(train_dataloader, total=len(train_dataloader), desc=\"Training\"):\n",
    "        images, labels = images.to(device), labels.to(device).unsqueeze(1).float()\n",
    "\n",
    "        # Forward pass\n",
    "        outputs = model(images).logits\n",
    "\n",
    "        # Compute loss\n",
    "        loss = criterion(outputs, labels)\n",
    "\n",
    "\n",
    "        # Backpropagation\n",
    "        optimizer.zero_grad()\n",
    "        loss.backward()\n",
    "        optimizer.step()\n",
    "\n",
    "    print(f'Epoch [{epoch+1}/{num_epochs}], Loss: {loss.item():.4f}')"
   ]
  },
  {
   "cell_type": "code",
   "execution_count": null,
   "metadata": {},
   "outputs": [],
   "source": [
    "model.eval()"
   ]
  }
 ],
 "metadata": {
  "kernelspec": {
   "display_name": "Python 3",
   "language": "python",
   "name": "python3"
  },
  "language_info": {
   "codemirror_mode": {
    "name": "ipython",
    "version": 3
   },
   "file_extension": ".py",
   "mimetype": "text/x-python",
   "name": "python",
   "nbconvert_exporter": "python",
   "pygments_lexer": "ipython3",
   "version": "3.11.8"
  }
 },
 "nbformat": 4,
 "nbformat_minor": 2
}
